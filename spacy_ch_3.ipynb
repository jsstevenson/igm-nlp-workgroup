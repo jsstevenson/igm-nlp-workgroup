{
 "cells": [
  {
   "cell_type": "code",
   "execution_count": 37,
   "id": "41e04f82-2901-4d17-aae4-ae3988e055f0",
   "metadata": {},
   "outputs": [],
   "source": [
    "import pandas as pd\n",
    "\n",
    "data = pd.read_csv(\"data/fda_data.csv\").set_index('drug_id')\n",
    "\n",
    "inds_table = data['indications_and_usage']\n",
    "\n",
    "def prune_header(ind):\n",
    "    ind = str(ind)\n",
    "    if ind.startswith('INDICATIONS AND USAGE: '):\n",
    "        return ind[23:]\n",
    "    elif ind.startswith('1 INDICATIONS AND USAGE '):\n",
    "        return ind[24:]\n",
    "    elif ind.startswith('INDICATIONS AND USAGE '):\n",
    "        return ind[22:]\n",
    "    \n",
    "inds_table = inds_table.apply(prune_header)\n",
    "inds_example = inds_table[0]"
   ]
  },
  {
   "cell_type": "code",
   "execution_count": 44,
   "id": "734f9a0c-d852-4183-8895-f3d9760e0111",
   "metadata": {},
   "outputs": [],
   "source": [
    "import spacy\n",
    "nlp = spacy.load(\"en_core_web_md\")\n",
    "doc = nlp(inds_example)\n",
    "sent = doc[:29]\n"
   ]
  },
  {
   "cell_type": "markdown",
   "id": "9efc0247-1ceb-4f04-b0b0-730fbb1ed26b",
   "metadata": {},
   "source": [
    "### parts of speech"
   ]
  },
  {
   "cell_type": "code",
   "execution_count": 54,
   "id": "dd40da52-8fe5-4839-81a0-2f7d3b180af2",
   "metadata": {},
   "outputs": [
    {
     "name": "stdout",
     "output_type": "stream",
     "text": [
      "('combination', 'NOUN', 'NN', 'noun', 'noun, singular or mass')\n",
      "('drug', 'NOUN', 'NN', 'noun', 'noun, singular or mass')\n",
      "('therapy', 'NOUN', 'NN', 'noun', 'noun, singular or mass')\n",
      "('edema', 'NOUN', 'NN', 'noun', 'noun, singular or mass')\n",
      "('hypertension', 'NOUN', 'NN', 'noun', 'noun, singular or mass')\n",
      "('individuals', 'NOUN', 'NNS', 'noun', 'noun, plural')\n",
      "('development', 'NOUN', 'NN', 'noun', 'noun, singular or mass')\n",
      "('hypokalemia', 'NOUN', 'NN', 'noun', 'noun, singular or mass')\n"
     ]
    }
   ],
   "source": [
    "for token in sent: \n",
    "    if token.pos_ == \"NOUN\":\n",
    "        print((token.text, token.pos_, token.tag_, spacy.explain(token.pos_), spacy.explain(token.tag_)))"
   ]
  },
  {
   "cell_type": "code",
   "execution_count": 57,
   "id": "7aac2bfa-1bbe-4596-aa4d-0d17343402fe",
   "metadata": {},
   "outputs": [
    {
     "name": "stdout",
     "output_type": "stream",
     "text": [
      "('This', 'DET', 'det', drug)\n",
      "('fixed', 'ADJ', 'amod', combination)\n",
      "('combination', 'NOUN', 'compound', drug)\n",
      "('drug', 'NOUN', 'nsubjpass', indicated)\n",
      "('is', 'AUX', 'auxpass', indicated)\n",
      "('not', 'PART', 'neg', indicated)\n",
      "('indicated', 'VERB', 'ROOT', indicated)\n",
      "('for', 'ADP', 'prep', indicated)\n",
      "('the', 'DET', 'det', therapy)\n",
      "('initial', 'ADJ', 'amod', therapy)\n",
      "('therapy', 'NOUN', 'pobj', for)\n",
      "('of', 'ADP', 'prep', therapy)\n",
      "('edema', 'NOUN', 'pobj', of)\n",
      "('or', 'CCONJ', 'cc', edema)\n",
      "('hypertension', 'NOUN', 'conj', edema)\n",
      "('except', 'SCONJ', 'prep', indicated)\n",
      "('in', 'ADP', 'prep', except)\n",
      "('individuals', 'NOUN', 'pobj', in)\n",
      "('in', 'ADP', 'prep', risked)\n",
      "('whom', 'PRON', 'pobj', in)\n",
      "('the', 'DET', 'det', development)\n",
      "('development', 'NOUN', 'nsubjpass', risked)\n",
      "('of', 'ADP', 'prep', development)\n",
      "('hypokalemia', 'NOUN', 'pobj', of)\n",
      "('can', 'AUX', 'aux', risked)\n",
      "('not', 'PART', 'neg', risked)\n",
      "('be', 'AUX', 'auxpass', risked)\n",
      "('risked', 'VERB', 'relcl', individuals)\n",
      "('.', 'PUNCT', 'punct', indicated)\n"
     ]
    }
   ],
   "source": [
    "for token in sent:\n",
    "    print((token.text, token.pos_, token.dep_, token.head))"
   ]
  },
  {
   "cell_type": "code",
   "execution_count": 58,
   "id": "797fe3af-c051-4882-9928-47215d828cd0",
   "metadata": {},
   "outputs": [
    {
     "data": {
      "text/plain": [
       "()"
      ]
     },
     "execution_count": 58,
     "metadata": {},
     "output_type": "execute_result"
    }
   ],
   "source": [
    "doc.ents"
   ]
  },
  {
   "cell_type": "code",
   "execution_count": 64,
   "id": "51da7e7d-a45d-4a0d-a1dd-5463d551a81a",
   "metadata": {},
   "outputs": [
    {
     "name": "stdout",
     "output_type": "stream",
     "text": [
      "Fluticasone Propionate/Salmeterol DISKUS is a combination product containing a corticosteroid and a long-acting beta 2 -adrenergic agonist (LABA) indicated for: • Twice-daily treatment of asthma in patients aged 4 years and older. ( 1.1 ) • Maintenance treatment of airflow obstruction and reducing exacerbations in patients with chronic obstructive pulmonary disease (COPD). ( 1.2 ) Important limitation of use: Not indicated for relief of acute bronchospasm. ( 1.1 , 1.2 ) 1.1 Treatment of Asthma Fluticasone Propionate/Salmeterol DISKUS is indicated for the twice-daily treatment of asthma in patients aged 4 years and older. Fluticasone Propionate/Salmeterol DISKUS should be used for patients not adequately controlled on a long-term asthma control medication such as an inhaled corticosteroid (ICS) or whose disease warrants initiation of treatment with both an ICS and long-acting beta 2 -adrenergic agonist (LABA). Important Limitation of Use Fluticasone Propionate/Salmeterol DISKUS is NOT indicated for the relief of acute bronchospasm. 1.2 Maintenance Treatment of Chronic Obstructive Pulmonary Disease Fluticasone Propionate/Salmeterol DISKUS inhalation powder 250/50 mcg is indicated for the twice-daily maintenance treatment of airflow obstruction in patients with chronic obstructive pulmonary disease (COPD), including chronic bronchitis and/or emphysema. Fluticasone Propionate/Salmeterol DISKUS inhalation powder 250/50 mcg is also indicated to reduce exacerbations of COPD in patients with a history of exacerbations. Fluticasone Propionate/Salmeterol DISKUS inhalation powder 250/50 mcg twice daily is the only approved dosage for the treatment of COPD because an efficacy advantage of the higher strength Fluticasone Propionate/Salmeterol DISKUS inhalation powder 500/50 mcg over Fluticasone Propionate/Salmeterol DISKUS inhalation powder 250/50 mcg has not been demonstrated. Important Limitation of Use Fluticasone Propionate/Salmeterol DISKUS is NOT indicated for the relief of acute bronchospasm.\n",
      "\n",
      "\n",
      "[('Fluticasone Propionate/Salmeterol DISKUS', 'ORG'), ('2', 'CARDINAL'), ('4 years', 'DATE'), ('1.1', 'CARDINAL'), ('1.2', 'CARDINAL'), ('1.1', 'CARDINAL'), ('1.2', 'CARDINAL'), ('1.1', 'CARDINAL'), ('DISKUS', 'ORG'), ('4 years', 'DATE'), ('Fluticasone Propionate/Salmeterol DISKUS', 'ORG'), ('2', 'CARDINAL'), ('1.2', 'CARDINAL'), ('Fluticasone Propionate/Salmeterol', 'ORG'), ('Fluticasone Propionate/Salmeterol', 'ORG'), ('250/50 mcg', 'QUANTITY'), ('Fluticasone Propionate/Salmeterol', 'ORG'), ('500/50', 'ORG'), ('Fluticasone Propionate/Salmeterol', 'ORG')]\n"
     ]
    }
   ],
   "source": [
    "for i in inds_table:\n",
    "    doc = nlp(i)\n",
    "    if doc.ents:\n",
    "        print(doc)\n",
    "        print('\\n')\n",
    "        print([(ent.text, ent.label_) for ent in doc.ents])  # a lot of these are wrong\n",
    "        break"
   ]
  },
  {
   "cell_type": "code",
   "execution_count": null,
   "id": "0beb80aa-06f9-488c-a537-a5136f1ca541",
   "metadata": {},
   "outputs": [],
   "source": []
  }
 ],
 "metadata": {
  "kernelspec": {
   "display_name": "nlp",
   "language": "python",
   "name": "nlp"
  },
  "language_info": {
   "codemirror_mode": {
    "name": "ipython",
    "version": 3
   },
   "file_extension": ".py",
   "mimetype": "text/x-python",
   "name": "python",
   "nbconvert_exporter": "python",
   "pygments_lexer": "ipython3",
   "version": "3.10.4"
  }
 },
 "nbformat": 4,
 "nbformat_minor": 5
}
