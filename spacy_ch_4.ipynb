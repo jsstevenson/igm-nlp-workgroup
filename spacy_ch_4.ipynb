{
 "cells": [
  {
   "cell_type": "code",
   "execution_count": 2,
   "id": "d0ff5cde-73b9-4617-88dc-ef4a3e829d5f",
   "metadata": {},
   "outputs": [],
   "source": [
    "import spacy\n",
    "from spacy.matcher import Matcher\n",
    "nlp = spacy.load(\"en_core_web_md\")"
   ]
  },
  {
   "cell_type": "code",
   "execution_count": 70,
   "id": "1a8029a0-ca3a-469a-9891-d4db069a17f5",
   "metadata": {},
   "outputs": [],
   "source": [
    "\"\"\"\n",
    "TODO\n",
    " * clean out empty docs\n",
    "\"\"\"\n",
    "import pandas as pd\n",
    "\n",
    "data = pd.read_csv(\"data/fda_data.csv\").set_index('drug_id')\n",
    "inds_table = data['indications_and_usage']\n",
    "\n",
    "def prune_header(ind):\n",
    "    ind = str(ind)\n",
    "    if ind.startswith('INDICATIONS AND USAGE: '):\n",
    "        return ind[23:]\n",
    "    elif ind.startswith('1 INDICATIONS AND USAGE '):\n",
    "        return ind[24:]\n",
    "    elif ind.startswith('INDICATIONS AND USAGE '):\n",
    "        return ind[22:]\n",
    "    \n",
    "inds_table = inds_table.apply(prune_header)"
   ]
  },
  {
   "cell_type": "code",
   "execution_count": 9,
   "id": "133a39ba-8da6-424a-834e-4f02c67e9596",
   "metadata": {},
   "outputs": [
    {
     "data": {
      "text/plain": [
       "'HYFTOR is indicated for the treatment of facial angiofibroma associated with tuberous sclerosis in adults and pediatric patients 6 years of age and older. HYFTOR is an mTOR inhibitor immunosuppressant indicated for the treatment of facial angiofibroma associated with tuberous sclerosis in adults and pediatric patients 6 years of age and older. ( 1 )'"
      ]
     },
     "execution_count": 9,
     "metadata": {},
     "output_type": "execute_result"
    }
   ],
   "source": [
    "inds_example = inds_table[101]\n",
    "inds_example"
   ]
  },
  {
   "cell_type": "code",
   "execution_count": 79,
   "id": "c2f23009-d18b-455d-badb-6f8d64a22981",
   "metadata": {},
   "outputs": [
    {
     "data": {
      "text/plain": [
       "'Paricalcitol is a vitamin D analog indicated in adults for the prevention and treatment of secondary hyperparathyroidism associated with: Chronic kidney disease (CKD) Stages 3 and 4 (1.1) . CKD Stage 5 in patients on hemodialysis or peritoneal dialysis (1.2) . 1.1 Chronic Kidney Disease Stages 3 and 4 Paricalcitol capsules are indicated in adults for the prevention and treatment of secondary hyperparathyroidism associated with Chronic Kidney Disease (CKD) Stages 3 and 4. Pediatric use information for patients 10 to 16 years of age is approved for AbbVie Inc.’s Zemplar (paricalcitol) capsules. However, due to AbbVie Inc.’s marketing exclusivity rights, this drug product is not labeled with that pediatric information. 1.2 Chronic Kidney Disease Stage 5 Paricalcitol capsules are indicated in adults for the prevention and treatment of secondary hyperparathyroidism associated with CKD Stage 5 in patients on hemodialysis (HD) or peritoneal dialysis (PD). Pediatric use information for patients 10 to 16 years of age is approved for AbbVie Inc.’s Zemplar (paricalcitol) capsules. However, due to AbbVie Inc.’s marketing exclusivity rights, this drug product is not labeled with that pediatric information.'"
      ]
     },
     "execution_count": 79,
     "metadata": {},
     "output_type": "execute_result"
    }
   ],
   "source": [
    "other_inds_example = inds_table[342]\n",
    "other_inds_example"
   ]
  },
  {
   "cell_type": "code",
   "execution_count": 12,
   "id": "e9de57d4-7b9c-43f3-8d83-1215766a915f",
   "metadata": {},
   "outputs": [
    {
     "name": "stdout",
     "output_type": "stream",
     "text": [
      "('HYFTOR', 'PROPN', 'nsubjpass', indicated)\n",
      "('is', 'AUX', 'auxpass', indicated)\n",
      "('indicated', 'VERB', 'ROOT', indicated)\n",
      "('for', 'ADP', 'prep', indicated)\n",
      "('the', 'DET', 'det', treatment)\n",
      "('treatment', 'NOUN', 'pobj', for)\n",
      "('of', 'ADP', 'prep', treatment)\n",
      "('facial', 'ADJ', 'amod', angiofibroma)\n",
      "('angiofibroma', 'NOUN', 'pobj', of)\n",
      "('associated', 'VERB', 'acl', angiofibroma)\n",
      "('with', 'ADP', 'prep', associated)\n",
      "('tuberous', 'ADJ', 'compound', sclerosis)\n",
      "('sclerosis', 'NOUN', 'pobj', with)\n",
      "('in', 'ADP', 'prep', sclerosis)\n",
      "('adults', 'NOUN', 'pobj', in)\n",
      "('and', 'CCONJ', 'cc', adults)\n",
      "('pediatric', 'ADJ', 'amod', patients)\n",
      "('patients', 'NOUN', 'conj', adults)\n",
      "('6', 'NUM', 'nummod', years)\n",
      "('years', 'NOUN', 'npadvmod', associated)\n",
      "('of', 'ADP', 'prep', years)\n",
      "('age', 'NOUN', 'pobj', of)\n",
      "('and', 'CCONJ', 'cc', age)\n",
      "('older', 'ADJ', 'conj', age)\n",
      "('.', 'PUNCT', 'punct', indicated)\n",
      "('HYFTOR', 'PROPN', 'nsubj', is)\n",
      "('is', 'AUX', 'ROOT', is)\n",
      "('an', 'DET', 'det', immunosuppressant)\n",
      "('mTOR', 'PROPN', 'compound', inhibitor)\n",
      "('inhibitor', 'NOUN', 'compound', immunosuppressant)\n",
      "('immunosuppressant', 'NOUN', 'attr', is)\n",
      "('indicated', 'VERB', 'acl', immunosuppressant)\n",
      "('for', 'ADP', 'prep', indicated)\n",
      "('the', 'DET', 'det', treatment)\n",
      "('treatment', 'NOUN', 'pobj', for)\n",
      "('of', 'ADP', 'prep', treatment)\n",
      "('facial', 'ADJ', 'amod', angiofibroma)\n",
      "('angiofibroma', 'NOUN', 'pobj', of)\n",
      "('associated', 'VERB', 'acl', angiofibroma)\n",
      "('with', 'ADP', 'prep', associated)\n",
      "('tuberous', 'ADJ', 'compound', sclerosis)\n",
      "('sclerosis', 'NOUN', 'pobj', with)\n",
      "('in', 'ADP', 'prep', sclerosis)\n",
      "('adults', 'NOUN', 'pobj', in)\n",
      "('and', 'CCONJ', 'cc', adults)\n",
      "('pediatric', 'ADJ', 'amod', patients)\n",
      "('patients', 'NOUN', 'conj', adults)\n",
      "('6', 'NUM', 'nummod', years)\n",
      "('years', 'NOUN', 'npadvmod', associated)\n",
      "('of', 'ADP', 'prep', years)\n",
      "('age', 'NOUN', 'pobj', of)\n",
      "('and', 'CCONJ', 'cc', age)\n",
      "('older', 'ADJ', 'conj', age)\n",
      "('.', 'PUNCT', 'punct', is)\n",
      "('(', 'PUNCT', 'punct', 1)\n",
      "('1', 'X', 'ROOT', 1)\n",
      "(')', 'PUNCT', 'punct', 1)\n"
     ]
    }
   ],
   "source": [
    "doc = nlp(inds_example)\n",
    "for token in doc:\n",
    "    print((token.text, token.pos_, token.dep_, token.head))"
   ]
  },
  {
   "cell_type": "code",
   "execution_count": 28,
   "id": "2fb9030c-94ec-4516-bdc9-84757b1ddc7f",
   "metadata": {},
   "outputs": [
    {
     "name": "stdout",
     "output_type": "stream",
     "text": [
      "facial angiofibroma\n",
      "tuberous sclerosis\n",
      "facial angiofibroma\n",
      "tuberous sclerosis\n"
     ]
    }
   ],
   "source": [
    "matcher = Matcher(nlp.vocab)\n",
    "pattern = [{\"pos\": \"ADJ\"}, {\"pos\": \"NOUN\", \"dep\": \"pobj\"}]\n",
    "matcher.add(\"phenotype\", [pattern])\n",
    "matches = matcher(doc)\n",
    "for match_id, start, end in matches:\n",
    "    m_span = doc[start:end]\n",
    "    print(m_span.text)\n"
   ]
  },
  {
   "cell_type": "code",
   "execution_count": 80,
   "id": "73531f18-ca44-437b-8324-5ac52d38c9c7",
   "metadata": {},
   "outputs": [
    {
     "name": "stdout",
     "output_type": "stream",
     "text": [
      "and pediatric\n",
      "\n",
      "\n",
      "\n",
      "\n"
     ]
    }
   ],
   "source": [
    "doc_i = nlp(other_inds_example)\n",
    "matcher = Matcher(nlp.vocab)\n",
    "pattern = [{\"pos\": \"ADJ\"}, {\"pos\": \"NOUN\", \"dep\": \"pobj\"}]\n",
    "matcher.add(\"phenotype\", [pattern])\n",
    "matches = matcher(doc_i)\n",
    "for match_id, start, end in matches:\n",
    "    m_span = doc[start:end]\n",
    "    print(m_span.text)"
   ]
  },
  {
   "cell_type": "code",
   "execution_count": null,
   "id": "bd77d22b-db89-4ee0-afec-7661b6e6f0cf",
   "metadata": {},
   "outputs": [],
   "source": []
  }
 ],
 "metadata": {
  "kernelspec": {
   "display_name": "nlp",
   "language": "python",
   "name": "nlp"
  },
  "language_info": {
   "codemirror_mode": {
    "name": "ipython",
    "version": 3
   },
   "file_extension": ".py",
   "mimetype": "text/x-python",
   "name": "python",
   "nbconvert_exporter": "python",
   "pygments_lexer": "ipython3",
   "version": "3.10.6"
  }
 },
 "nbformat": 4,
 "nbformat_minor": 5
}
